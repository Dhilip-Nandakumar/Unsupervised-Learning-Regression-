{
 "cells": [
  {
   "cell_type": "markdown",
   "metadata": {},
   "source": [
    "## Problem Statement\n",
    "\n",
    "The HR department of an MNC in New York collects information about their employees. The department records the age, monthly income, total experience and information about the employee's professional work. The department uses this data to find which employees might undergo attrition. There are various factors affecting the attrition of an employee. We can use various dimension reduction techniques to analyze the higher dimensional dataset more effectively. "
   ]
  },
  {
   "cell_type": "markdown",
   "metadata": {
    "colab_type": "text",
    "id": "L0ORjq6qY2Tm"
   },
   "source": [
    "##  Data Definition (Employee attrition data)\n",
    "\n",
    "Here's a brief version of what you'll find in the data\n",
    "\n",
    "**Age**: Age of the employee\n",
    "\n",
    "**DailyRate**: Per day rate of the employee\n",
    "\n",
    "**DistanceFromHome**: Distance between the office and the employee's home \n",
    "\n",
    "**HourlyRate**: Per hour rate of the employee\n",
    "\n",
    "**MonthlyIncome**: Monthly salary of the employee\n",
    "\n",
    "**MonthlyRate**: Monthly rate of the employee\n",
    "\n",
    "**NumCompaniesWorked**: Total number of companies in which the employee worked\n",
    "\n",
    "**PercentSalaryHike**: Percent increase in salary\n",
    "\n",
    "**TotalWorkingYears**: Total experience (in years)\n",
    "\n",
    "**TrainingTimesLastYear**: Number of times the employee undergo the training program in the previous year\n",
    "\n",
    "**YearsAtCompany**: Number of years the employee has worked with the company\n",
    "\n",
    "**YearsInCurrentRole**: Number of years in the current role\n",
    "\n",
    "**YearsSinceLastPromotion**: Number of years since the last promotion\n",
    "\n",
    "**YearsWithCurrManager**: Number of years with the current manager\n",
    "\n",
    "**Attrition**: Employee leaving the company (1=Yes or 0=No) (target/dependent variable)"
   ]
  },
  {
   "cell_type": "markdown",
   "metadata": {},
   "source": [
    "## Table of Content\n",
    "\n",
    "1. **[Import Libraries](#lib)**\n",
    "2. **[Data Preparation](#prep)**\n",
    "    - 2.1 - **[Read the Data](#read)**\n",
    "    - 2.2 - **[Check the Data Type](#dtype)**\n",
    "    - 2.3 - **[Distribution of Variables](#dist)**\n",
    "    - 2.4 - **[Missing Value Treatment](#null)**\n",
    "    - 2.5 - **[Scale the Data](#scale)**\n",
    "3. **[Principal Component Analysis (PCA)](#pca)**\n",
    "    - 3.1 - **[Covariance Matrix](#cov_mat)**\n",
    "    - 3.2 - **[Compute Eigenvalues and Eigenvectors](#eigen)**\n",
    "    - 3.3 - **[Decide Number of Principal Components](#components)**\n",
    "    - 3.4 - **[Principal Components](#comp)**\n",
    "    - 3.5 - **[PCA using Python Library](#pcafunction)**\n",
    "4. **[Linear Discriminant Analysis (LDA)](#lda)**\n",
    "5. **[Compare the Performance](#perf)**"
   ]
  },
  {
   "cell_type": "markdown",
   "metadata": {},
   "source": [
    "<a id=\"lib\"></a>\n",
    "# 1. Import Libraries"
   ]
  },
  {
   "cell_type": "markdown",
   "metadata": {},
   "source": [
    "**Let us import the required libraries.**"
   ]
  },
  {
   "cell_type": "code",
   "execution_count": 1,
   "metadata": {},
   "outputs": [],
   "source": [
    "# suppress display of warnings\n",
    "import warnings\n",
    "warnings.filterwarnings(\"ignore\", category=DeprecationWarning)\n",
    "warnings.filterwarnings(\"ignore\", category=FutureWarning)\n",
    "\n",
    "# 'Pandas' is used for data manipulation and analysis\n",
    "import pandas as pd \n",
    "\n",
    "# 'Numpy' is used for mathematical operations on large, multi-dimensional arrays and matrices\n",
    "import numpy as np\n",
    "\n",
    "# 'Matplotlib' is a data visualization library for 2D and 3D plots, built on numpy\n",
    "import matplotlib.pyplot as plt\n",
    "\n",
    "# train test split\n",
    "from sklearn.model_selection import train_test_split\n",
    "\n",
    "# 'StandardScalar' from sklearn.preprocessing library is used to scale the data\n",
    "from sklearn.preprocessing import StandardScaler\n",
    "\n",
    "# 'eig' from numpy.linalg to calculate eigenvalues and eigenvectors\n",
    "from numpy.linalg import eig\n",
    "\n",
    "# 'PCA' function to perform principal component analysis using the sklearn library\n",
    "from sklearn.decomposition import PCA\n",
    "\n",
    "# 'LDA' function to perform linear discriminant analysis using the sklearn library\n",
    "from sklearn.discriminant_analysis import LinearDiscriminantAnalysis as LDA\n",
    "\n",
    "# import decision tree classifier from sklearn\n",
    "from sklearn.tree import DecisionTreeClassifier\n",
    "from sklearn.metrics import accuracy_score, roc_auc_score"
   ]
  },
  {
   "cell_type": "code",
   "execution_count": 2,
   "metadata": {},
   "outputs": [],
   "source": [
    "# set the plot size using 'rcParams'\n",
    "# once the plot size is set using 'rcParams', it sets the size of all the forthcoming plots in the file\n",
    "# pass width and height in inches to 'figure.figsize' \n",
    "plt.rcParams['figure.figsize'] = [15,8]"
   ]
  },
  {
   "cell_type": "markdown",
   "metadata": {},
   "source": [
    "<a id=\"prep\"></a>\n",
    "# 2. Data Preparation"
   ]
  },
  {
   "cell_type": "markdown",
   "metadata": {},
   "source": [
    "<a id=\"read\"></a>\n",
    "## 2.1 Read the Data"
   ]
  },
  {
   "cell_type": "markdown",
   "metadata": {},
   "source": [
    "#### Read the dataset and print the first five observations."
   ]
  },
  {
   "cell_type": "code",
   "execution_count": 3,
   "metadata": {},
   "outputs": [
    {
     "data": {
      "text/html": [
       "<div>\n",
       "<style scoped>\n",
       "    .dataframe tbody tr th:only-of-type {\n",
       "        vertical-align: middle;\n",
       "    }\n",
       "\n",
       "    .dataframe tbody tr th {\n",
       "        vertical-align: top;\n",
       "    }\n",
       "\n",
       "    .dataframe thead th {\n",
       "        text-align: right;\n",
       "    }\n",
       "</style>\n",
       "<table border=\"1\" class=\"dataframe\">\n",
       "  <thead>\n",
       "    <tr style=\"text-align: right;\">\n",
       "      <th></th>\n",
       "      <th>Age</th>\n",
       "      <th>DailyRate</th>\n",
       "      <th>DistanceFromHome</th>\n",
       "      <th>HourlyRate</th>\n",
       "      <th>MonthlyIncome</th>\n",
       "      <th>MonthlyRate</th>\n",
       "      <th>NumCompaniesWorked</th>\n",
       "      <th>PercentSalaryHike</th>\n",
       "      <th>TotalWorkingYears</th>\n",
       "      <th>TrainingTimesLastYear</th>\n",
       "      <th>YearsAtCompany</th>\n",
       "      <th>YearsInCurrentRole</th>\n",
       "      <th>YearsSinceLastPromotion</th>\n",
       "      <th>YearsWithCurrManager</th>\n",
       "      <th>Attrition</th>\n",
       "    </tr>\n",
       "  </thead>\n",
       "  <tbody>\n",
       "    <tr>\n",
       "      <th>0</th>\n",
       "      <td>53</td>\n",
       "      <td>124</td>\n",
       "      <td>2</td>\n",
       "      <td>38</td>\n",
       "      <td>7525</td>\n",
       "      <td>23537</td>\n",
       "      <td>2</td>\n",
       "      <td>12</td>\n",
       "      <td>30</td>\n",
       "      <td>2</td>\n",
       "      <td>15</td>\n",
       "      <td>7</td>\n",
       "      <td>6</td>\n",
       "      <td>12</td>\n",
       "      <td>0</td>\n",
       "    </tr>\n",
       "    <tr>\n",
       "      <th>1</th>\n",
       "      <td>21</td>\n",
       "      <td>337</td>\n",
       "      <td>7</td>\n",
       "      <td>31</td>\n",
       "      <td>2679</td>\n",
       "      <td>4567</td>\n",
       "      <td>1</td>\n",
       "      <td>13</td>\n",
       "      <td>1</td>\n",
       "      <td>3</td>\n",
       "      <td>1</td>\n",
       "      <td>0</td>\n",
       "      <td>1</td>\n",
       "      <td>0</td>\n",
       "      <td>1</td>\n",
       "    </tr>\n",
       "    <tr>\n",
       "      <th>2</th>\n",
       "      <td>36</td>\n",
       "      <td>1218</td>\n",
       "      <td>9</td>\n",
       "      <td>82</td>\n",
       "      <td>3407</td>\n",
       "      <td>6986</td>\n",
       "      <td>7</td>\n",
       "      <td>23</td>\n",
       "      <td>10</td>\n",
       "      <td>4</td>\n",
       "      <td>5</td>\n",
       "      <td>3</td>\n",
       "      <td>0</td>\n",
       "      <td>3</td>\n",
       "      <td>1</td>\n",
       "    </tr>\n",
       "    <tr>\n",
       "      <th>3</th>\n",
       "      <td>38</td>\n",
       "      <td>1391</td>\n",
       "      <td>10</td>\n",
       "      <td>66</td>\n",
       "      <td>2684</td>\n",
       "      <td>12127</td>\n",
       "      <td>0</td>\n",
       "      <td>17</td>\n",
       "      <td>3</td>\n",
       "      <td>0</td>\n",
       "      <td>2</td>\n",
       "      <td>1</td>\n",
       "      <td>0</td>\n",
       "      <td>2</td>\n",
       "      <td>0</td>\n",
       "    </tr>\n",
       "    <tr>\n",
       "      <th>4</th>\n",
       "      <td>24</td>\n",
       "      <td>1476</td>\n",
       "      <td>4</td>\n",
       "      <td>42</td>\n",
       "      <td>4162</td>\n",
       "      <td>15211</td>\n",
       "      <td>1</td>\n",
       "      <td>12</td>\n",
       "      <td>5</td>\n",
       "      <td>3</td>\n",
       "      <td>5</td>\n",
       "      <td>4</td>\n",
       "      <td>0</td>\n",
       "      <td>3</td>\n",
       "      <td>0</td>\n",
       "    </tr>\n",
       "  </tbody>\n",
       "</table>\n",
       "</div>"
      ],
      "text/plain": [
       "   Age  DailyRate  DistanceFromHome  HourlyRate  MonthlyIncome  MonthlyRate  \\\n",
       "0   53        124                 2          38           7525        23537   \n",
       "1   21        337                 7          31           2679         4567   \n",
       "2   36       1218                 9          82           3407         6986   \n",
       "3   38       1391                10          66           2684        12127   \n",
       "4   24       1476                 4          42           4162        15211   \n",
       "\n",
       "   NumCompaniesWorked  PercentSalaryHike  TotalWorkingYears  \\\n",
       "0                   2                 12                 30   \n",
       "1                   1                 13                  1   \n",
       "2                   7                 23                 10   \n",
       "3                   0                 17                  3   \n",
       "4                   1                 12                  5   \n",
       "\n",
       "   TrainingTimesLastYear  YearsAtCompany  YearsInCurrentRole  \\\n",
       "0                      2              15                   7   \n",
       "1                      3               1                   0   \n",
       "2                      4               5                   3   \n",
       "3                      0               2                   1   \n",
       "4                      3               5                   4   \n",
       "\n",
       "   YearsSinceLastPromotion  YearsWithCurrManager  Attrition  \n",
       "0                        6                    12          0  \n",
       "1                        1                     0          1  \n",
       "2                        0                     3          1  \n",
       "3                        0                     2          0  \n",
       "4                        0                     3          0  "
      ]
     },
     "execution_count": 3,
     "metadata": {},
     "output_type": "execute_result"
    }
   ],
   "source": [
    "# read csv file using pandas\n",
    "df_attr = pd.read_csv('attrition.csv')\n",
    "\n",
    "# head() to display top five rows\n",
    "df_attr.head()"
   ]
  },
  {
   "cell_type": "markdown",
   "metadata": {},
   "source": [
    "#### Compute dimensions of the data"
   ]
  },
  {
   "cell_type": "code",
   "execution_count": 4,
   "metadata": {},
   "outputs": [
    {
     "data": {
      "text/plain": [
       "(2233, 15)"
      ]
     },
     "execution_count": 4,
     "metadata": {},
     "output_type": "execute_result"
    }
   ],
   "source": [
    "# 'shape' function gives the total number of rows and columns in the data\n",
    "df_attr.shape"
   ]
  },
  {
   "cell_type": "markdown",
   "metadata": {},
   "source": [
    "**Interpretation**: There are 2233 observations and 15 variables in the dataset.         "
   ]
  },
  {
   "cell_type": "markdown",
   "metadata": {},
   "source": [
    "<a id=\"dtype\"></a>\n",
    "## 2.2 Check the Data Type"
   ]
  },
  {
   "cell_type": "markdown",
   "metadata": {},
   "source": [
    "**Check the data type of each variable. If the data type is not as per the data definition, change the data type.**"
   ]
  },
  {
   "cell_type": "code",
   "execution_count": 5,
   "metadata": {
    "scrolled": false
   },
   "outputs": [
    {
     "data": {
      "text/plain": [
       "Age                        int64\n",
       "DailyRate                  int64\n",
       "DistanceFromHome           int64\n",
       "HourlyRate                 int64\n",
       "MonthlyIncome              int64\n",
       "MonthlyRate                int64\n",
       "NumCompaniesWorked         int64\n",
       "PercentSalaryHike          int64\n",
       "TotalWorkingYears          int64\n",
       "TrainingTimesLastYear      int64\n",
       "YearsAtCompany             int64\n",
       "YearsInCurrentRole         int64\n",
       "YearsSinceLastPromotion    int64\n",
       "YearsWithCurrManager       int64\n",
       "Attrition                  int64\n",
       "dtype: object"
      ]
     },
     "execution_count": 5,
     "metadata": {},
     "output_type": "execute_result"
    }
   ],
   "source": [
    "# 'dtypes' gives the data type for each column\n",
    "df_attr.dtypes"
   ]
  },
  {
   "cell_type": "markdown",
   "metadata": {},
   "source": [
    "**Interpretation**: We can see that the data type of all the variables is as per the data definition."
   ]
  },
  {
   "cell_type": "markdown",
   "metadata": {},
   "source": [
    "<a id=\"dist\"></a>\n",
    "## 2.3 Distribution of Variables"
   ]
  },
  {
   "cell_type": "markdown",
   "metadata": {},
   "source": [
    "**Distribution of independent variables.**"
   ]
  },
  {
   "cell_type": "code",
   "execution_count": 6,
   "metadata": {},
   "outputs": [
    {
     "data": {
      "image/png": "[encoded data removed]",
      "text/plain": [
       "<Figure size 1080x576 with 16 Axes>"
      ]
     },
     "metadata": {
      "needs_background": "light"
     },
     "output_type": "display_data"
    }
   ],
   "source": [
    "# for the independent numeric variables, we plot the histogram to check the distribution of the variables\n",
    "# Note: the hist() function considers the numeric variables only, by default\n",
    "# we drop the target variable using the 'drop()'\n",
    "# 'axis=1' drops the specified column\n",
    "df_attr.drop(['Attrition'], axis = 1).hist()\n",
    "\n",
    "# adjust the subplots\n",
    "plt.tight_layout()\n",
    "\n",
    "# display the plot\n",
    "plt.show()"
   ]
  },
  {
   "cell_type": "markdown",
   "metadata": {},
   "source": [
    "**Interpretation**: The above histograms display the distribution of each variable. \n",
    "\n",
    "From the plot we can see that the variables `DailyRate`, `HourlyRate` and `MonthlyRate` follow no specific distribution. All the remaining variables are positively distributed."
   ]
  },
  {
   "cell_type": "markdown",
   "metadata": {},
   "source": [
    "<a id=\"null\"></a>\n",
    "## 2.4 Missing Value Treatment"
   ]
  },
  {
   "cell_type": "markdown",
   "metadata": {},
   "source": [
    "First run a check for the presence of missing values and their percentage for each column. Then choose the right approach to treat them."
   ]
  },
  {
   "cell_type": "code",
   "execution_count": 7,
   "metadata": {},
   "outputs": [
    {
     "data": {
      "text/html": [
       "<div>\n",
       "<style scoped>\n",
       "    .dataframe tbody tr th:only-of-type {\n",
       "        vertical-align: middle;\n",
       "    }\n",
       "\n",
       "    .dataframe tbody tr th {\n",
       "        vertical-align: top;\n",
       "    }\n",
       "\n",
       "    .dataframe thead th {\n",
       "        text-align: right;\n",
       "    }\n",
       "</style>\n",
       "<table border=\"1\" class=\"dataframe\">\n",
       "  <thead>\n",
       "    <tr style=\"text-align: right;\">\n",
       "      <th></th>\n",
       "      <th>Total</th>\n",
       "      <th>Percentage of Missing Values</th>\n",
       "    </tr>\n",
       "  </thead>\n",
       "  <tbody>\n",
       "    <tr>\n",
       "      <th>Attrition</th>\n",
       "      <td>0</td>\n",
       "      <td>0.0</td>\n",
       "    </tr>\n",
       "    <tr>\n",
       "      <th>YearsWithCurrManager</th>\n",
       "      <td>0</td>\n",
       "      <td>0.0</td>\n",
       "    </tr>\n",
       "    <tr>\n",
       "      <th>YearsSinceLastPromotion</th>\n",
       "      <td>0</td>\n",
       "      <td>0.0</td>\n",
       "    </tr>\n",
       "    <tr>\n",
       "      <th>YearsInCurrentRole</th>\n",
       "      <td>0</td>\n",
       "      <td>0.0</td>\n",
       "    </tr>\n",
       "    <tr>\n",
       "      <th>YearsAtCompany</th>\n",
       "      <td>0</td>\n",
       "      <td>0.0</td>\n",
       "    </tr>\n",
       "    <tr>\n",
       "      <th>TrainingTimesLastYear</th>\n",
       "      <td>0</td>\n",
       "      <td>0.0</td>\n",
       "    </tr>\n",
       "    <tr>\n",
       "      <th>TotalWorkingYears</th>\n",
       "      <td>0</td>\n",
       "      <td>0.0</td>\n",
       "    </tr>\n",
       "    <tr>\n",
       "      <th>PercentSalaryHike</th>\n",
       "      <td>0</td>\n",
       "      <td>0.0</td>\n",
       "    </tr>\n",
       "    <tr>\n",
       "      <th>NumCompaniesWorked</th>\n",
       "      <td>0</td>\n",
       "      <td>0.0</td>\n",
       "    </tr>\n",
       "    <tr>\n",
       "      <th>MonthlyRate</th>\n",
       "      <td>0</td>\n",
       "      <td>0.0</td>\n",
       "    </tr>\n",
       "    <tr>\n",
       "      <th>MonthlyIncome</th>\n",
       "      <td>0</td>\n",
       "      <td>0.0</td>\n",
       "    </tr>\n",
       "    <tr>\n",
       "      <th>HourlyRate</th>\n",
       "      <td>0</td>\n",
       "      <td>0.0</td>\n",
       "    </tr>\n",
       "    <tr>\n",
       "      <th>DistanceFromHome</th>\n",
       "      <td>0</td>\n",
       "      <td>0.0</td>\n",
       "    </tr>\n",
       "    <tr>\n",
       "      <th>DailyRate</th>\n",
       "      <td>0</td>\n",
       "      <td>0.0</td>\n",
       "    </tr>\n",
       "    <tr>\n",
       "      <th>Age</th>\n",
       "      <td>0</td>\n",
       "      <td>0.0</td>\n",
       "    </tr>\n",
       "  </tbody>\n",
       "</table>\n",
       "</div>"
      ],
      "text/plain": [
       "                         Total  Percentage of Missing Values\n",
       "Attrition                    0                           0.0\n",
       "YearsWithCurrManager         0                           0.0\n",
       "YearsSinceLastPromotion      0                           0.0\n",
       "YearsInCurrentRole           0                           0.0\n",
       "YearsAtCompany               0                           0.0\n",
       "TrainingTimesLastYear        0                           0.0\n",
       "TotalWorkingYears            0                           0.0\n",
       "PercentSalaryHike            0                           0.0\n",
       "NumCompaniesWorked           0                           0.0\n",
       "MonthlyRate                  0                           0.0\n",
       "MonthlyIncome                0                           0.0\n",
       "HourlyRate                   0                           0.0\n",
       "DistanceFromHome             0                           0.0\n",
       "DailyRate                    0                           0.0\n",
       "Age                          0                           0.0"
      ]
     },
     "execution_count": 7,
     "metadata": {},
     "output_type": "execute_result"
    }
   ],
   "source": [
    "# sort the variables on the basis of total null values in the variable\n",
    "# 'isnull().sum()' returns the number of missing values in each variable\n",
    "# 'ascending = False' sorts values in the descending order\n",
    "# the variable with highest number of missing values will appear first\n",
    "Total = df_attr.isnull().sum().sort_values(ascending=False)          \n",
    "\n",
    "# calculate percentage of missing values\n",
    "# 'ascending = False' sorts values in the descending order\n",
    "# the variable with highest percentage of missing values will appear first\n",
    "Percent = (df_attr.isnull().sum()*100/df_attr.isnull().count()).sort_values(ascending=False)   \n",
    "\n",
    "# concat the 'Total' and 'Percent' columns using 'concat' function\n",
    "# pass a list of column names in parameter 'keys' \n",
    "# 'axis = 1' concats along the columns\n",
    "missing_data = pd.concat([Total, Percent], axis = 1, keys = ['Total', 'Percentage of Missing Values'])    \n",
    "missing_data"
   ]
  },
  {
   "cell_type": "markdown",
   "metadata": {},
   "source": [
    "**Interpretation:** The above output shows that there are no missing values in the data."
   ]
  },
  {
   "cell_type": "markdown",
   "metadata": {},
   "source": [
    "<a id=\"scale\"></a>\n",
    "## 2.5 Scale the data"
   ]
  },
  {
   "cell_type": "markdown",
   "metadata": {},
   "source": [
    "We scale the variables to get all the variables in the same range. With this, we can avoid a problem in which some features come to dominate solely because they tend to have larger values than others."
   ]
  },
  {
   "cell_type": "code",
   "execution_count": 8,
   "metadata": {},
   "outputs": [
    {
     "name": "stdout",
     "output_type": "stream",
     "text": [
      "(2233, 14)\n"
     ]
    }
   ],
   "source": [
    "# standardize all the independent variables \n",
    "# we drop the target variable using the 'drop()'\n",
    "# 'axis=1' drops the specified column\n",
    "# the 'fit_transform()' transforms the data by first computing the mean and sd and later scaling the data\n",
    "df_attr_std = StandardScaler().fit_transform(df_attr.drop('Attrition', axis = 1))\n",
    "\n",
    "# print the dimension of the standardized data\n",
    "print(df_attr_std.shape)"
   ]
  },
  {
   "cell_type": "markdown",
   "metadata": {},
   "source": [
    "**Interpretation:** Now we use these 14 standardized variables to find the principal components. Now all these variables have mean 0 and their standard deviation is 1."
   ]
  },
  {
   "cell_type": "markdown",
   "metadata": {},
   "source": [
    "<a id='pca'></a>\n",
    "# 3. Principal Component Analysis (PCA)\n",
    "\n",
    "It is an unsupervised dimension reduction technique used to transform the higher dimensional dataset to a lower dimension. It considers the linear combination of all the numerical variables and create principal components that are orthogonal to each other. These principal components explain most of the variance in the data with lower dimension. "
   ]
  },
  {
   "cell_type": "markdown",
   "metadata": {},
   "source": [
    "<a id='cov_mat'></a>\n",
    "## 3.1 Covariance Matrix\n",
    "\n",
    "PCA aims to minimize the distortions and to summarize the essential information in the data. These distortions (noise, redundancy, etc.) reflect in the off-diagonal values of the covariance matrix."
   ]
  },
  {
   "cell_type": "code",
   "execution_count": 9,
   "metadata": {},
   "outputs": [
    {
     "name": "stdout",
     "output_type": "stream",
     "text": [
      "[[ 1.00044803  0.00108543 -0.01932118  0.0878637   0.52070041  0.01222788\n",
      "   0.33604246  0.00204405  0.70266994 -0.016474    0.40437271  0.31282288\n",
      "   0.28426132  0.28952944]\n",
      " [ 0.00108543  1.00044803 -0.04458367  0.03175072  0.0046552  -0.06645707\n",
      "   0.04615258 -0.0251113   0.00376656 -0.01589741 -0.04716883 -0.00204887\n",
      "  -0.04038946 -0.0087683 ]\n",
      " [-0.01932118 -0.04458367  1.00044803  0.01457042 -0.02010008  0.03498196\n",
      "  -0.07096223  0.05712164 -0.0178718  -0.03928711 -0.0083611  -0.01374887\n",
      "  -0.00233438 -0.00999183]\n",
      " [ 0.0878637   0.03175072  0.01457042  1.00044803  0.00239115 -0.01897197\n",
      "   0.02315547 -0.01598421  0.03058398 -0.00866239  0.01403102 -0.02585746\n",
      "  -0.03357082 -0.00111668]\n",
      " [ 0.52070041  0.0046552  -0.02010008  0.00239115  1.00044803  0.05210244\n",
      "   0.16559791 -0.03711425  0.76515409 -0.02448325  0.56170029  0.44724512\n",
      "   0.37540876  0.39924222]]\n"
     ]
    }
   ],
   "source": [
    "# generate the covariance matrix using 'cov' function\n",
    "# consider the transpose of the dataframe 'df_attr_std' to obtain the covarinace between the independent variables (columns)  \n",
    "cov_mat = np.cov(df_attr_std.T)\n",
    "\n",
    "# as 'cov_mat' is a numpy array, select first five observations with [0:5]\n",
    "print(cov_mat[0:5])"
   ]
  },
  {
   "cell_type": "markdown",
   "metadata": {},
   "source": [
    "**Interpretation:** The covariance matrix is a square matrix of dimension 14x14. The diagonal entries correspond to the variance of each variable (which is always equal to 1, as we are using the standardized data) and the off-diagonal entries represent the covariances between the variables."
   ]
  },
  {
   "cell_type": "markdown",
   "metadata": {},
   "source": [
    "<a id='eigen'></a>\n",
    "## 3.2 Compute Eigenvalues and Eigenvectors "
   ]
  },
  {
   "cell_type": "markdown",
   "metadata": {},
   "source": [
    "Eigenvalues: The diagonal values of the diagonalized covariance matrix are the `eigenvalues` of the covariance matrix. Large eigenvalues correspond to the large variance in the data.<br>\n",
    "                        \n",
    "Eigenvectors: The eigenvectors corresponds to the eigenvalues give directions of the maximum variation in the data."
   ]
  },
  {
   "cell_type": "code",
   "execution_count": 10,
   "metadata": {
    "scrolled": false
   },
   "outputs": [
    {
     "name": "stdout",
     "output_type": "stream",
     "text": [
      "Eigenvalues: \n",
      " \n",
      " [4.30567107 1.51892139 0.12679687 0.21619259 0.25285258 0.43403018\n",
      " 0.47151197 0.68139318 1.1302603  1.04197238 1.01182564 0.99398062\n",
      " 0.90451699 0.91634664] \n",
      "\n",
      "Eigenvectors: \n",
      " \n",
      " [[ 3.04538423e-01  4.33467401e-01  2.16389939e-01 -2.32422825e-01\n",
      "   5.27258977e-02 -7.21834470e-01 -1.73778426e-01  1.54259496e-01\n",
      "   3.57778059e-02  5.34637444e-02 -1.74706496e-01 -2.04540317e-02\n",
      "   7.48105629e-02  4.65383830e-03]\n",
      " [-8.82696560e-03  1.06285227e-01  2.39597537e-02  3.10596944e-02\n",
      "  -1.14639536e-02 -2.33973997e-02 -5.72006637e-02 -4.37585287e-03\n",
      "  -5.17585850e-01  3.08134801e-01  3.06870579e-01 -1.76725099e-01\n",
      "  -2.39736318e-01  6.61362120e-01]\n",
      " [-1.19613397e-02 -9.31137661e-02  7.33407591e-03 -6.05141634e-03\n",
      "   2.30861730e-03  1.93211915e-02  3.15858788e-02 -1.21675996e-01\n",
      "   5.19834783e-01  4.58164003e-01  1.57959385e-02  1.48355278e-01\n",
      "   5.31564772e-01  4.35835552e-01]\n",
      " [ 7.88568842e-03  1.42351598e-01 -1.93747218e-02 -1.54229726e-02\n",
      "   1.71074236e-02  1.03145000e-01 -1.88724210e-02 -7.88092029e-02\n",
      "  -1.39495189e-01  5.55285540e-01 -1.88153141e-01  6.62009474e-01\n",
      "  -3.20578691e-01 -2.39441419e-01]\n",
      " [ 3.58682890e-01  2.33112557e-01  2.35663197e-01 -4.11445814e-01\n",
      "  -2.93347066e-02  6.04936645e-01  2.24256200e-03  4.47032816e-01\n",
      "   6.36529016e-02 -5.82288560e-02 -6.66363162e-02 -3.70537628e-03\n",
      "   1.76254191e-02  1.15416667e-01]\n",
      " [-1.26919971e-02  1.34952748e-01 -2.88053014e-03  3.07456053e-02\n",
      "  -2.48213544e-02 -6.12613549e-02  1.26817633e-02 -1.20933668e-01\n",
      "   5.28570097e-01 -3.60495333e-01  1.22125474e-01  2.65092849e-01\n",
      "  -5.81055815e-01  3.59666935e-01]\n",
      " [ 6.93976618e-02  6.10804377e-01  1.12847097e-01  4.27770767e-02\n",
      "  -1.47088718e-02  2.27540342e-01  1.82111347e-01 -6.79209126e-01\n",
      "  -3.40814631e-02 -5.02895800e-02  4.63664775e-02 -1.61033509e-01\n",
      "   1.37145524e-01 -1.02352192e-01]\n",
      " [-2.04835654e-02 -5.14656975e-02  7.76460089e-03  3.12871379e-02\n",
      "   2.65156615e-03  6.50673112e-02 -4.12664442e-02 -2.50415490e-02\n",
      "   3.13414736e-01  4.24058560e-01 -3.57735271e-01 -6.31914371e-01\n",
      "  -4.16773162e-01 -1.01376149e-01]\n",
      " [ 4.14632329e-01  2.65210204e-01 -6.96537378e-01  4.52875326e-01\n",
      "  -6.31472101e-02  4.40789293e-02  2.10161677e-02  2.18875959e-01\n",
      "   2.71999133e-02 -1.41815955e-03 -7.80306663e-02 -1.87321451e-02\n",
      "   6.22625004e-02  4.63267681e-02]\n",
      " [-1.47517980e-02 -1.31453831e-01 -1.63366041e-02 -1.26163283e-02\n",
      "  -4.52980602e-03  4.22489452e-02  4.07203065e-03 -2.01199703e-01\n",
      "  -2.34271801e-01 -2.52928103e-01 -8.13679202e-01  9.61846103e-02\n",
      "   6.00822947e-02  3.82075538e-01]\n",
      " [ 4.30605278e-01 -2.00049250e-01  5.96971398e-01  6.34833263e-01\n",
      "   1.24478661e-02  1.15219609e-02  1.04790612e-01  1.96061959e-02\n",
      "  -1.18793575e-02  4.37043360e-03 -8.70986444e-05  5.06625771e-02\n",
      "  -2.59362867e-02 -1.08846387e-02]\n",
      " [ 3.92877911e-01 -2.57606707e-01 -1.66041874e-01 -2.47013460e-01\n",
      "   7.48771865e-01 -4.10496573e-02  2.73804939e-01 -1.97339289e-01\n",
      "  -2.62040956e-02  9.44193686e-03  8.25646590e-02 -1.73535133e-02\n",
      "  -8.09261442e-02  9.72627381e-04]\n",
      " [ 3.43813067e-01 -2.17876333e-01 -6.91449331e-02 -9.23155592e-02\n",
      "  -9.66517212e-02  1.11798997e-01 -8.17261570e-01 -3.40864589e-01\n",
      "   4.09961292e-03 -3.68803942e-02  1.05253647e-01  3.89523634e-03\n",
      "   1.74005810e-03 -5.09909825e-02]\n",
      " [ 3.77894289e-01 -2.86571670e-01 -9.83614831e-02 -3.06418682e-01\n",
      "  -6.48788608e-01 -1.53756067e-01  4.19305421e-01 -1.86680593e-01\n",
      "  -4.29144733e-02  5.28492991e-02  6.41847203e-02 -7.94619912e-03\n",
      "  -8.02591662e-02 -3.18099489e-02]] \n",
      "\n"
     ]
    }
   ],
   "source": [
    "# use 'eig' function to compute eigenvalues and eigenvectors of the covariance matrix\n",
    "eig_val, eig_vec = np.linalg.eig(cov_mat)\n",
    "\n",
    "print('Eigenvalues:','\\n','\\n', eig_val,\"\\n\")\n",
    "\n",
    "print('Eigenvectors:','\\n','\\n',eig_vec,'\\n')"
   ]
  },
  {
   "cell_type": "markdown",
   "metadata": {},
   "source": [
    "**Interpretation:** For the 14x14 covariance matrix, we get 14 eigenvalues and eigenvectors. The eigenvector corresponding to the largest eigenvalue represent the direction of the highest variation in the dataset."
   ]
  },
  {
   "cell_type": "markdown",
   "metadata": {},
   "source": [
    "<a id='components'></a>\n",
    "## 3.3 Decide Number of Principal Components"
   ]
  },
  {
   "cell_type": "code",
   "execution_count": 11,
   "metadata": {},
   "outputs": [
    {
     "name": "stdout",
     "output_type": "stream",
     "text": [
      "[4.305671065115176, 1.5189213881051118, 1.1302602977102152, 1.0419723832167636, 1.011825636114389, 0.9939806181788776, 0.91634664473653, 0.9045169863191345, 0.6813931814875855, 0.47151197140316276, 0.43403018385256464, 0.2528525824213316, 0.21619259342659308, 0.1267968693462527]\n"
     ]
    }
   ],
   "source": [
    "# create a list of eigenvalues\n",
    "eig_val = list(eig_val)\n",
    "\n",
    "# 'sort(reverse = True)' will sort the eigenvalues in the descending order\n",
    "eig_val.sort(reverse = True)\n",
    "\n",
    "# print the sorted list\n",
    "print(eig_val)"
   ]
  },
  {
   "cell_type": "markdown",
   "metadata": {},
   "source": [
    "To decide the number of components, we can use different methods as: `Kaiser criterion`, `Scree plot`, `Percentage of Explained Variation`."
   ]
  },
  {
   "cell_type": "markdown",
   "metadata": {},
   "source": [
    "#### 1) Kaiser criterion: This criterion considers the number of pricipal components for which the eigenvalue is greater than 1. This criterion suffers a drawback of selecting more number of components as the eigenvalues very close to 1 may not contribute significantly in explaining the variation in the data.\n",
    "\n",
    "Here the first five eigenvalues are greater than 1. Thus we can consider 5 principal components using kaiser criterion."
   ]
  },
  {
   "cell_type": "markdown",
   "metadata": {},
   "source": [
    "#### 2) Scree plot: Plot the eigenvalues and choose the number of components corresponding to the elbow point."
   ]
  },
  {
   "cell_type": "code",
   "execution_count": 12,
   "metadata": {},
   "outputs": [
    {
     "data": {
      "image/png": "[encoded data removed]",
      "text/plain": [
       "<Figure size 1080x576 with 1 Axes>"
      ]
     },
     "metadata": {
      "needs_background": "light"
     },
     "output_type": "display_data"
    }
   ],
   "source": [
    "# 'bp' represents blue color and pentagonal shape of points\n",
    "plt.plot(eig_val,'bp')            \n",
    "\n",
    "# plot a line plot\n",
    "plt.plot(eig_val) \n",
    "\n",
    "# set the axes and plot labels\n",
    "# set the fontsize using 'fontsize'\n",
    "plt.title('Scree Plot', fontsize = 15)\n",
    "plt.xlabel('Principal Components', fontsize = 15)    \n",
    "plt.ylabel('Explained Variance', fontsize = 15)      \n",
    "\n",
    "# use 'annonate' function to draw an arrow between points xy and xytext\n",
    "# 's' is a argument to write text\n",
    "# we can change the facecolor and arrowstyle; this is only for representation purpose\n",
    "plt.annotate(s ='Elbow Point', xy=(2.05,1.2), xytext=(2, 1.8), arrowprops=dict(facecolor='black', arrowstyle = 'simple'))\n",
    "\n",
    "# display the plot\n",
    "plt.show()   "
   ]
  },
  {
   "cell_type": "markdown",
   "metadata": {},
   "source": [
    "**Interpretation**: It can be observed that, after the elbow point, the principal components do not contribute much to the variance in the data. \n",
    "The Kaiser criterion considers the number of principal components as 5, but the scree plot shows that only first three components explains most of the variation."
   ]
  },
  {
   "cell_type": "markdown",
   "metadata": {},
   "source": [
    "#### 3) Percentage of Explained Variation: Calculate the percentage of variation explained by each principal component. We consider the number of components that explain most of the variation."
   ]
  },
  {
   "cell_type": "markdown",
   "metadata": {},
   "source": [
    "The eigenvalue represents the total variance explained by that principal component. \n",
    "\n",
    "The proportion of variation explained by the i<sup>th</sup> principal component is calculated by taking the ratio of i<sup>th</sup> eigenvalue to the sum of all the eigenvalues. To calculate the percentage, multiply this ratio by 100."
   ]
  },
  {
   "cell_type": "code",
   "execution_count": 13,
   "metadata": {},
   "outputs": [
    {
     "data": {
      "text/plain": [
       "[30.741020463620615,\n",
       " 10.844579803757313,\n",
       " 8.069672396165316,\n",
       " 7.439326848377638,\n",
       " 7.2240893730641575,\n",
       " 7.09668204137693,\n",
       " 6.542401993000883,\n",
       " 6.45794227325286,\n",
       " 4.864914532276539,\n",
       " 3.366434393742754,\n",
       " 3.098827235490131,\n",
       " 1.8052810567603235,\n",
       " 1.5435412594464717,\n",
       " 0.9052863296680832]"
      ]
     },
     "execution_count": 13,
     "metadata": {},
     "output_type": "execute_result"
    }
   ],
   "source": [
    "# calculate the percentage of variation explained by each principal component\n",
    "# create an empty list to store the percentage of variation explained by each principal component\n",
    "percent_var = []\n",
    "\n",
    "# use a 'for' loop to calculate the percentage of variation for each component\n",
    "for i in eig_val:\n",
    "    variation = (i/sum(eig_val))*100\n",
    "    \n",
    "    # add the values to the list 'percent_var'\n",
    "    percent_var.append(variation)\n",
    "    \n",
    "# print the percentage of variation\n",
    "percent_var"
   ]
  },
  {
   "cell_type": "markdown",
   "metadata": {},
   "source": [
    "**Interpretation**: It can be seen that the first principal component explains 30.7% variation in the data."
   ]
  },
  {
   "cell_type": "markdown",
   "metadata": {},
   "source": [
    "Now calculate the cumulative percentage of variation."
   ]
  },
  {
   "cell_type": "code",
   "execution_count": 14,
   "metadata": {},
   "outputs": [
    {
     "data": {
      "text/plain": [
       "array([ 30.74102046,  41.58560027,  49.65527266,  57.09459951,\n",
       "        64.31868888,  71.41537093,  77.95777292,  84.41571519,\n",
       "        89.28062972,  92.64706412,  95.74589135,  97.55117241,\n",
       "        99.09471367, 100.        ])"
      ]
     },
     "execution_count": 14,
     "metadata": {},
     "output_type": "execute_result"
    }
   ],
   "source": [
    "# the 'cumsum()' returns the cumulative sum \n",
    "np.cumsum(percent_var)"
   ]
  },
  {
   "cell_type": "markdown",
   "metadata": {},
   "source": [
    "**Interpretation**: We can see that the first five components explain approximately 64% of the variation in the data. By considering the 3 components as per the scree plot, the components explain approximately 50% of the variation. To explain 95% of the variation in the data, we need to consider ten principal components.\n",
    "\n",
    "For this dataset, let us choose the `five` principal components that explain 64% of the variation."
   ]
  },
  {
   "cell_type": "markdown",
   "metadata": {},
   "source": [
    "Thus, we take the dot product of the scaled data and the eigenvectors corresponding to the first five eigenvalues to get the principal components. "
   ]
  },
  {
   "cell_type": "markdown",
   "metadata": {},
   "source": [
    "<a id='comp'></a>\n",
    "## 3.4 Principal Components "
   ]
  },
  {
   "cell_type": "code",
   "execution_count": 15,
   "metadata": {},
   "outputs": [
    {
     "data": {
      "text/plain": [
       "array([[ 3.04538423e-01,  4.33467401e-01,  3.57778059e-02,\n",
       "         5.34637444e-02, -1.74706496e-01],\n",
       "       [-8.82696560e-03,  1.06285227e-01, -5.17585850e-01,\n",
       "         3.08134801e-01,  3.06870579e-01],\n",
       "       [-1.19613397e-02, -9.31137661e-02,  5.19834783e-01,\n",
       "         4.58164003e-01,  1.57959385e-02],\n",
       "       [ 7.88568842e-03,  1.42351598e-01, -1.39495189e-01,\n",
       "         5.55285540e-01, -1.88153141e-01],\n",
       "       [ 3.58682890e-01,  2.33112557e-01,  6.36529016e-02,\n",
       "        -5.82288560e-02, -6.66363162e-02],\n",
       "       [-1.26919971e-02,  1.34952748e-01,  5.28570097e-01,\n",
       "        -3.60495333e-01,  1.22125474e-01],\n",
       "       [ 6.93976618e-02,  6.10804377e-01, -3.40814631e-02,\n",
       "        -5.02895800e-02,  4.63664775e-02],\n",
       "       [-2.04835654e-02, -5.14656975e-02,  3.13414736e-01,\n",
       "         4.24058560e-01, -3.57735271e-01],\n",
       "       [ 4.14632329e-01,  2.65210204e-01,  2.71999133e-02,\n",
       "        -1.41815955e-03, -7.80306663e-02],\n",
       "       [-1.47517980e-02, -1.31453831e-01, -2.34271801e-01,\n",
       "        -2.52928103e-01, -8.13679202e-01],\n",
       "       [ 4.30605278e-01, -2.00049250e-01, -1.18793575e-02,\n",
       "         4.37043360e-03, -8.70986444e-05],\n",
       "       [ 3.92877911e-01, -2.57606707e-01, -2.62040956e-02,\n",
       "         9.44193686e-03,  8.25646590e-02],\n",
       "       [ 3.43813067e-01, -2.17876333e-01,  4.09961292e-03,\n",
       "        -3.68803942e-02,  1.05253647e-01],\n",
       "       [ 3.77894289e-01, -2.86571670e-01, -4.29144733e-02,\n",
       "         5.28492991e-02,  6.41847203e-02]])"
      ]
     },
     "execution_count": 15,
     "metadata": {},
     "output_type": "execute_result"
    }
   ],
   "source": [
    "# consider the eigenvectors corresponding to the first five highest eigenvalues\n",
    "# these eigenvectors are the 1st, 2nd, 9th, 10th and 11th columns of 'eig_vec' \n",
    "eigenvector = eig_vec[:,[0,1,8,9,10]]\n",
    "\n",
    "# print the vectors\n",
    "eigenvector"
   ]
  },
  {
   "cell_type": "markdown",
   "metadata": {},
   "source": [
    "**Interpretation**: The first column in the above output represents the direction of maximum variation in the data. The second column represents the direction of the 2nd most highest variation in the data and so on."
   ]
  },
  {
   "cell_type": "markdown",
   "metadata": {},
   "source": [
    "Now generate a new dataset of reduced dimensions by multiplying standardize data and set of eigenvectors."
   ]
  },
  {
   "cell_type": "code",
   "execution_count": 16,
   "metadata": {
    "scrolled": true
   },
   "outputs": [
    {
     "data": {
      "text/html": [
       "<div>\n",
       "<style scoped>\n",
       "    .dataframe tbody tr th:only-of-type {\n",
       "        vertical-align: middle;\n",
       "    }\n",
       "\n",
       "    .dataframe tbody tr th {\n",
       "        vertical-align: top;\n",
       "    }\n",
       "\n",
       "    .dataframe thead th {\n",
       "        text-align: right;\n",
       "    }\n",
       "</style>\n",
       "<table border=\"1\" class=\"dataframe\">\n",
       "  <thead>\n",
       "    <tr style=\"text-align: right;\">\n",
       "      <th></th>\n",
       "      <th>PC1</th>\n",
       "      <th>PC2</th>\n",
       "      <th>PC3</th>\n",
       "      <th>PC4</th>\n",
       "      <th>PC5</th>\n",
       "    </tr>\n",
       "  </thead>\n",
       "  <tbody>\n",
       "    <tr>\n",
       "      <th>0</th>\n",
       "      <td>3.905466</td>\n",
       "      <td>-0.095954</td>\n",
       "      <td>1.117870</td>\n",
       "      <td>-2.186599</td>\n",
       "      <td>0.477868</td>\n",
       "    </tr>\n",
       "    <tr>\n",
       "      <th>1</th>\n",
       "      <td>-2.558738</td>\n",
       "      <td>-1.250848</td>\n",
       "      <td>-0.352867</td>\n",
       "      <td>-1.301638</td>\n",
       "      <td>0.035775</td>\n",
       "    </tr>\n",
       "    <tr>\n",
       "      <th>2</th>\n",
       "      <td>-0.654722</td>\n",
       "      <td>1.059780</td>\n",
       "      <td>-0.935477</td>\n",
       "      <td>1.738105</td>\n",
       "      <td>-1.478593</td>\n",
       "    </tr>\n",
       "    <tr>\n",
       "      <th>3</th>\n",
       "      <td>-1.676318</td>\n",
       "      <td>0.024093</td>\n",
       "      <td>-0.285561</td>\n",
       "      <td>1.466101</td>\n",
       "      <td>1.850465</td>\n",
       "    </tr>\n",
       "    <tr>\n",
       "      <th>4</th>\n",
       "      <td>-1.242807</td>\n",
       "      <td>-0.865700</td>\n",
       "      <td>-1.424404</td>\n",
       "      <td>-0.868779</td>\n",
       "      <td>1.083326</td>\n",
       "    </tr>\n",
       "  </tbody>\n",
       "</table>\n",
       "</div>"
      ],
      "text/plain": [
       "        PC1       PC2       PC3       PC4       PC5\n",
       "0  3.905466 -0.095954  1.117870 -2.186599  0.477868\n",
       "1 -2.558738 -1.250848 -0.352867 -1.301638  0.035775\n",
       "2 -0.654722  1.059780 -0.935477  1.738105 -1.478593\n",
       "3 -1.676318  0.024093 -0.285561  1.466101  1.850465\n",
       "4 -1.242807 -0.865700 -1.424404 -0.868779  1.083326"
      ]
     },
     "execution_count": 16,
     "metadata": {},
     "output_type": "execute_result"
    }
   ],
   "source": [
    "# take the dot product of 'df_attr_std' with 'eigenvector' to obtain new dataset\n",
    "# create a dataframe of principal components\n",
    "# pass the required column names to the parameter 'columns'\n",
    "df_pca = pd.DataFrame(df_attr_std.dot(eigenvector), columns= ['PC1','PC2', 'PC3', 'PC4', 'PC5'])\n",
    "\n",
    "# head() to display top five rows\n",
    "df_pca.head()"
   ]
  },
  {
   "cell_type": "code",
   "execution_count": 17,
   "metadata": {
    "scrolled": true
   },
   "outputs": [
    {
     "data": {
      "text/plain": [
       "(2233, 5)"
      ]
     },
     "execution_count": 17,
     "metadata": {},
     "output_type": "execute_result"
    }
   ],
   "source": [
    "# check the shape of the transformed data\n",
    "df_pca.shape"
   ]
  },
  {
   "cell_type": "markdown",
   "metadata": {},
   "source": [
    "**Interpretation**: In the above step, we obtained the data with reduced dimensions. The new dataset has 2233 observations and 5 columns, i.e. we have decreased the number of features from 14 to 5."
   ]
  },
  {
   "cell_type": "markdown",
   "metadata": {},
   "source": [
    "Now, we use the in-built python function `PCA()` from the sci-kit learn library to calculate the principal components."
   ]
  },
  {
   "cell_type": "markdown",
   "metadata": {},
   "source": [
    "<a id='pcafunction'></a>\n",
    "## 3.5. PCA using Python Library "
   ]
  },
  {
   "cell_type": "markdown",
   "metadata": {},
   "source": [
    "Use the in-built PCA function from the sklearn library to perform PCA and check the results with the obtained data with reduced dimensions (using scratch method). We consider number of components = 5."
   ]
  },
  {
   "cell_type": "code",
   "execution_count": 18,
   "metadata": {},
   "outputs": [],
   "source": [
    "# specify the required no of components to the parameter 'n_components'\n",
    "# pass the 'random_state' to get the same output for multiple runs\n",
    "pca = PCA(n_components = 5, random_state = 10)\n",
    "\n",
    "# the 'fit_transform()' fits the PCA on the data transforms the data to compute the principal components \n",
    "# pass the standardized data to fit PCA\n",
    "components = pca.fit_transform(df_attr_std)"
   ]
  },
  {
   "cell_type": "code",
   "execution_count": 19,
   "metadata": {
    "scrolled": true
   },
   "outputs": [
    {
     "data": {
      "text/html": [
       "<div>\n",
       "<style scoped>\n",
       "    .dataframe tbody tr th:only-of-type {\n",
       "        vertical-align: middle;\n",
       "    }\n",
       "\n",
       "    .dataframe tbody tr th {\n",
       "        vertical-align: top;\n",
       "    }\n",
       "\n",
       "    .dataframe thead th {\n",
       "        text-align: right;\n",
       "    }\n",
       "</style>\n",
       "<table border=\"1\" class=\"dataframe\">\n",
       "  <thead>\n",
       "    <tr style=\"text-align: right;\">\n",
       "      <th></th>\n",
       "      <th>PC1</th>\n",
       "      <th>PC2</th>\n",
       "      <th>PC3</th>\n",
       "      <th>PC4</th>\n",
       "      <th>PC5</th>\n",
       "    </tr>\n",
       "  </thead>\n",
       "  <tbody>\n",
       "    <tr>\n",
       "      <th>0</th>\n",
       "      <td>3.905466</td>\n",
       "      <td>-0.095954</td>\n",
       "      <td>1.117870</td>\n",
       "      <td>-2.186599</td>\n",
       "      <td>-0.477868</td>\n",
       "    </tr>\n",
       "    <tr>\n",
       "      <th>1</th>\n",
       "      <td>-2.558738</td>\n",
       "      <td>-1.250848</td>\n",
       "      <td>-0.352867</td>\n",
       "      <td>-1.301638</td>\n",
       "      <td>-0.035775</td>\n",
       "    </tr>\n",
       "    <tr>\n",
       "      <th>2</th>\n",
       "      <td>-0.654722</td>\n",
       "      <td>1.059780</td>\n",
       "      <td>-0.935477</td>\n",
       "      <td>1.738105</td>\n",
       "      <td>1.478593</td>\n",
       "    </tr>\n",
       "    <tr>\n",
       "      <th>3</th>\n",
       "      <td>-1.676318</td>\n",
       "      <td>0.024093</td>\n",
       "      <td>-0.285561</td>\n",
       "      <td>1.466101</td>\n",
       "      <td>-1.850465</td>\n",
       "    </tr>\n",
       "    <tr>\n",
       "      <th>4</th>\n",
       "      <td>-1.242807</td>\n",
       "      <td>-0.865700</td>\n",
       "      <td>-1.424404</td>\n",
       "      <td>-0.868779</td>\n",
       "      <td>-1.083326</td>\n",
       "    </tr>\n",
       "  </tbody>\n",
       "</table>\n",
       "</div>"
      ],
      "text/plain": [
       "        PC1       PC2       PC3       PC4       PC5\n",
       "0  3.905466 -0.095954  1.117870 -2.186599 -0.477868\n",
       "1 -2.558738 -1.250848 -0.352867 -1.301638 -0.035775\n",
       "2 -0.654722  1.059780 -0.935477  1.738105  1.478593\n",
       "3 -1.676318  0.024093 -0.285561  1.466101 -1.850465\n",
       "4 -1.242807 -0.865700 -1.424404 -0.868779 -1.083326"
      ]
     },
     "execution_count": 19,
     "metadata": {},
     "output_type": "execute_result"
    }
   ],
   "source": [
    "# create a dataframe of principal components\n",
    "# pass the required column names to the parameter 'columns'\n",
    "df_pca_sklearn = pd.DataFrame(data = components, columns = ['PC1', 'PC2', 'PC3', 'PC4', 'PC5'])\n",
    "\n",
    "# head() to display top five rows of the transformed data\n",
    "df_pca_sklearn.head()"
   ]
  },
  {
   "cell_type": "code",
   "execution_count": 20,
   "metadata": {},
   "outputs": [
    {
     "data": {
      "text/plain": [
       "(2233, 5)"
      ]
     },
     "execution_count": 20,
     "metadata": {},
     "output_type": "execute_result"
    }
   ],
   "source": [
    "# check the shpe of the new dataset\n",
    "df_pca_sklearn.shape"
   ]
  },
  {
   "cell_type": "markdown",
   "metadata": {},
   "source": [
    "**Interpretation**: In the above step, we obtained the data with reduced dimensions. The new dataset has 2233 observations and 5 columns. "
   ]
  },
  {
   "cell_type": "markdown",
   "metadata": {},
   "source": [
    "The above dataframe shows that, the sign of the fifth principal component is reversed in the output obtained from the in-built function, as compared to the results obtained from scratch.\n",
    "\n",
    "The signs depend on how the algorithm solves the eigenvector problem underlying the PCA operation. The scratch method is using the eigendecomposition method to compute eigenvalues and eigenvectors; while in-built function uses the SVD method.\n",
    "The difference in the signs does not affect the variances explained by the principal components. Let, PC1 be the component of maximum variation. If we consider -(PC1) instead of PC1, then also we obtain the same variation in the data."
   ]
  },
  {
   "cell_type": "markdown",
   "metadata": {},
   "source": [
    "#### Find the loadings of the principal components"
   ]
  },
  {
   "cell_type": "code",
   "execution_count": 21,
   "metadata": {},
   "outputs": [
    {
     "data": {
      "text/plain": [
       "array([[ 3.04538423e-01, -8.82696560e-03, -1.19613397e-02,\n",
       "         7.88568842e-03,  3.58682890e-01, -1.26919971e-02,\n",
       "         6.93976618e-02, -2.04835654e-02,  4.14632329e-01,\n",
       "        -1.47517980e-02,  4.30605278e-01,  3.92877911e-01,\n",
       "         3.43813067e-01,  3.77894289e-01],\n",
       "       [ 4.33467401e-01,  1.06285227e-01, -9.31137661e-02,\n",
       "         1.42351598e-01,  2.33112557e-01,  1.34952748e-01,\n",
       "         6.10804377e-01, -5.14656975e-02,  2.65210204e-01,\n",
       "        -1.31453831e-01, -2.00049250e-01, -2.57606707e-01,\n",
       "        -2.17876333e-01, -2.86571670e-01],\n",
       "       [ 3.57778059e-02, -5.17585850e-01,  5.19834783e-01,\n",
       "        -1.39495189e-01,  6.36529016e-02,  5.28570097e-01,\n",
       "        -3.40814631e-02,  3.13414736e-01,  2.71999133e-02,\n",
       "        -2.34271801e-01, -1.18793575e-02, -2.62040956e-02,\n",
       "         4.09961292e-03, -4.29144733e-02],\n",
       "       [ 5.34637444e-02,  3.08134801e-01,  4.58164003e-01,\n",
       "         5.55285540e-01, -5.82288560e-02, -3.60495333e-01,\n",
       "        -5.02895800e-02,  4.24058560e-01, -1.41815955e-03,\n",
       "        -2.52928103e-01,  4.37043360e-03,  9.44193686e-03,\n",
       "        -3.68803942e-02,  5.28492991e-02],\n",
       "       [ 1.74706496e-01, -3.06870579e-01, -1.57959385e-02,\n",
       "         1.88153141e-01,  6.66363162e-02, -1.22125474e-01,\n",
       "        -4.63664775e-02,  3.57735271e-01,  7.80306663e-02,\n",
       "         8.13679202e-01,  8.70986443e-05, -8.25646590e-02,\n",
       "        -1.05253647e-01, -6.41847203e-02]])"
      ]
     },
     "execution_count": 21,
     "metadata": {},
     "output_type": "execute_result"
    }
   ],
   "source": [
    "# the 'components_' returns the loading for each principal component\n",
    "pca.components_"
   ]
  },
  {
   "cell_type": "markdown",
   "metadata": {},
   "source": [
    "**Interpretation**: Each row in the above array represents the loadings for the principal components."
   ]
  },
  {
   "cell_type": "markdown",
   "metadata": {},
   "source": [
    "<a id='lda'></a>\n",
    "# 4. Linear Discriminant Analysis (LDA)"
   ]
  },
  {
   "cell_type": "markdown",
   "metadata": {},
   "source": [
    "LDA is one of the dimension reduction techniques which is a supervised algorithm as it takes the labels of the target/ dependent variable into consideration. This method reduces dimensionality of the data and also at the same time preserves as much of the class discrimination information as possible. \n",
    "\n",
    "We project the original data onto the lower dimensional vectors and calculate the linear discriminants that returns maximum separation between the classes of the target vraiable."
   ]
  },
  {
   "cell_type": "code",
   "execution_count": 22,
   "metadata": {
    "scrolled": true
   },
   "outputs": [
    {
     "data": {
      "text/plain": [
       "array([0, 1], dtype=int64)"
      ]
     },
     "execution_count": 22,
     "metadata": {},
     "output_type": "execute_result"
    }
   ],
   "source": [
    "# consider the target variable\n",
    "df_target = df_attr['Attrition']\n",
    "\n",
    "# check the unique classes in the target variable\n",
    "df_target.unique()"
   ]
  },
  {
   "cell_type": "markdown",
   "metadata": {},
   "source": [
    "**Interpretation**: The output shows that, there are two classes in the target variable.\n",
    "\n",
    "Thus, we project the data on a 1-D line that can maximize the separation between these two classes."
   ]
  },
  {
   "cell_type": "code",
   "execution_count": 23,
   "metadata": {},
   "outputs": [],
   "source": [
    "# instantiate the LDA\n",
    "# here we have 2 classes in target variable, thus we choose n_components as 2 - 1 = 1\n",
    "lda = LDA(n_components=1)\n",
    "\n",
    "# fit_transform() computes the linear discriminants on the given data \n",
    "# pass the standardized data of independent variables to the parameter 'X'\n",
    "# pass the target variable to the parameter 'y'\n",
    "discriminant = lda.fit_transform(X = df_attr_std, y = df_target)"
   ]
  },
  {
   "cell_type": "code",
   "execution_count": 24,
   "metadata": {},
   "outputs": [
    {
     "data": {
      "text/html": [
       "<div>\n",
       "<style scoped>\n",
       "    .dataframe tbody tr th:only-of-type {\n",
       "        vertical-align: middle;\n",
       "    }\n",
       "\n",
       "    .dataframe tbody tr th {\n",
       "        vertical-align: top;\n",
       "    }\n",
       "\n",
       "    .dataframe thead th {\n",
       "        text-align: right;\n",
       "    }\n",
       "</style>\n",
       "<table border=\"1\" class=\"dataframe\">\n",
       "  <thead>\n",
       "    <tr style=\"text-align: right;\">\n",
       "      <th></th>\n",
       "      <th>LD1</th>\n",
       "    </tr>\n",
       "  </thead>\n",
       "  <tbody>\n",
       "    <tr>\n",
       "      <th>0</th>\n",
       "      <td>1.185875</td>\n",
       "    </tr>\n",
       "    <tr>\n",
       "      <th>1</th>\n",
       "      <td>-1.394706</td>\n",
       "    </tr>\n",
       "    <tr>\n",
       "      <th>2</th>\n",
       "      <td>0.037103</td>\n",
       "    </tr>\n",
       "    <tr>\n",
       "      <th>3</th>\n",
       "      <td>-0.002582</td>\n",
       "    </tr>\n",
       "    <tr>\n",
       "      <th>4</th>\n",
       "      <td>0.394587</td>\n",
       "    </tr>\n",
       "  </tbody>\n",
       "</table>\n",
       "</div>"
      ],
      "text/plain": [
       "        LD1\n",
       "0  1.185875\n",
       "1 -1.394706\n",
       "2  0.037103\n",
       "3 -0.002582\n",
       "4  0.394587"
      ]
     },
     "execution_count": 24,
     "metadata": {},
     "output_type": "execute_result"
    }
   ],
   "source": [
    "# create a dataframe of linear discriminant\n",
    "# pass the required column names to the parameter 'columns'\n",
    "df_lda = pd.DataFrame(data = discriminant, columns = ['LD1'])\n",
    "\n",
    "# head() to display top five rows of the transformed data\n",
    "df_lda.head()"
   ]
  },
  {
   "cell_type": "code",
   "execution_count": 25,
   "metadata": {},
   "outputs": [
    {
     "data": {
      "text/plain": [
       "(2233, 1)"
      ]
     },
     "execution_count": 25,
     "metadata": {},
     "output_type": "execute_result"
    }
   ],
   "source": [
    "# check the shape of the transformed data\n",
    "discriminant.shape"
   ]
  },
  {
   "cell_type": "markdown",
   "metadata": {},
   "source": [
    "**Interpretation**: In the above step, we obtained the data with reduced dimensions. The new dataset has 2233 observations and 1 columns. "
   ]
  },
  {
   "cell_type": "markdown",
   "metadata": {},
   "source": [
    "<a id='perf'></a>\n",
    "# 5. Compare the Performance"
   ]
  },
  {
   "cell_type": "markdown",
   "metadata": {},
   "source": [
    "#### We will compare the model performance of the decision tree algorithm on the original dataset and the transformed data obtained by PCA and LDA.\n",
    "\n",
    "Let us split the dataset into train and test sets and perform PCA and LDA to transform the train and test sets. Use the transformed train-test sets to compute the accuracy of the model."
   ]
  },
  {
   "cell_type": "code",
   "execution_count": 26,
   "metadata": {},
   "outputs": [],
   "source": [
    "# consider the independent variables\n",
    "# convert the standardized array of the dataest to the dataframe\n",
    "X = pd.DataFrame(df_attr_std)\n",
    "\n",
    "# consider the target variable\n",
    "y = df_target"
   ]
  },
  {
   "cell_type": "code",
   "execution_count": 27,
   "metadata": {},
   "outputs": [],
   "source": [
    "# split the original dataset into train and test set\n",
    "# pass the independent and dependent variables\n",
    "# pass the required proportion of the test set to the parameter 'test_size'\n",
    "# pass the 'random_state' to obtain the same sets for multiple code runs\n",
    "# pass the target variable to the parameter 'stratify', to obtain the balance of target labels in train and test sets\n",
    "X_train, X_test, y_train, y_test = train_test_split(X, y, test_size = 0.2, random_state = 10, stratify = y)"
   ]
  },
  {
   "cell_type": "markdown",
   "metadata": {},
   "source": [
    "Now let us fit the PCA on the train set and transform the train and test sets accordingly. We compute the 5 principal components."
   ]
  },
  {
   "cell_type": "code",
   "execution_count": 28,
   "metadata": {},
   "outputs": [],
   "source": [
    "# specify the required no of components to the parameter 'n_components'\n",
    "# pass the 'random_state' to get the same output for multiple runs\n",
    "pca = PCA(n_components = 5, random_state = 10)\n",
    "\n",
    "# fit the PCA on train set\n",
    "# the 'transform()' computes the principal components \n",
    "# pass the train data to transform the train and test sets\n",
    "X_train_pca = pca.fit_transform(X_train)\n",
    "X_test_pca = pca.transform(X_test)"
   ]
  },
  {
   "cell_type": "markdown",
   "metadata": {},
   "source": [
    "Now let us fit the LDA on the train set and transform the train and test sets accordingly."
   ]
  },
  {
   "cell_type": "code",
   "execution_count": 29,
   "metadata": {},
   "outputs": [],
   "source": [
    "# instantiate the LDA\n",
    "# here we have 2 classes in target variable, thus we choose n_components as 2 - 1 = 1\n",
    "lda = LDA(n_components = 1)\n",
    "\n",
    "# fit the LDA on train set\n",
    "# the 'transform()' computes the linear discriminants \n",
    "# pass the train data to transform the train and test sets\n",
    "X_train_lda = lda.fit_transform(X_train, y_train)\n",
    "X_test_lda = lda.transform(X_test)"
   ]
  },
  {
   "cell_type": "markdown",
   "metadata": {},
   "source": [
    "#### Let us create a function that runs the decision tree algorithm and finds the accuracy on the test set. "
   ]
  },
  {
   "cell_type": "code",
   "execution_count": 30,
   "metadata": {},
   "outputs": [],
   "source": [
    "# define a function to build a decision tree model and calculate the accuracy on the test set\n",
    "# pass the train and test sets as the \n",
    "def decisiontree_model_run(X_train, X_test, y_train, y_test):\n",
    "    \n",
    "    # create a decision tree classifier object\n",
    "    # use 'random_state' to obtain the same results for multiple code runs\n",
    "    df_tree = DecisionTreeClassifier(random_state=10)\n",
    "    \n",
    "    # fit the decision tree model on the train set\n",
    "    df_tree.fit(X_train, y_train)\n",
    "    \n",
    "    # predict the target class for test set\n",
    "    y_pred = df_tree.predict(X_test)\n",
    "    \n",
    "    # print the accuracy score\n",
    "    print('Accuracy on test set: ')\n",
    "    print(accuracy_score(y_test, y_pred))"
   ]
  },
  {
   "cell_type": "markdown",
   "metadata": {},
   "source": [
    "#### Run the decision tree classifier on the original data"
   ]
  },
  {
   "cell_type": "code",
   "execution_count": 31,
   "metadata": {},
   "outputs": [
    {
     "name": "stdout",
     "output_type": "stream",
     "text": [
      "Accuracy on test set: \n",
      "0.8993288590604027\n",
      "Wall time: 14.6 ms\n"
     ]
    }
   ],
   "source": [
    "%%time\n",
    "# '%%time' returns the time required for the execution of the model\n",
    "\n",
    "# pass the train and test set of the original data\n",
    "decisiontree_model_run(X_train, X_test, y_train, y_test)"
   ]
  },
  {
   "cell_type": "markdown",
   "metadata": {},
   "source": [
    "#### Run the decision tree classifier after performing the PCA on the data"
   ]
  },
  {
   "cell_type": "code",
   "execution_count": 32,
   "metadata": {},
   "outputs": [
    {
     "name": "stdout",
     "output_type": "stream",
     "text": [
      "Accuracy on test set: \n",
      "0.883668903803132\n",
      "Wall time: 11.2 ms\n"
     ]
    }
   ],
   "source": [
    "%%time\n",
    "# '%%time' returns the time required for the execution of the model\n",
    "\n",
    "# pass the train and test set of the PCA transformed data\n",
    "decisiontree_model_run(X_train_pca, X_test_pca, y_train, y_test)"
   ]
  },
  {
   "cell_type": "markdown",
   "metadata": {},
   "source": [
    "#### Run the decision tree classifier after performing the LDA on the data"
   ]
  },
  {
   "cell_type": "code",
   "execution_count": 33,
   "metadata": {},
   "outputs": [
    {
     "name": "stdout",
     "output_type": "stream",
     "text": [
      "Accuracy on test set: \n",
      "0.8993288590604027\n",
      "Wall time: 4.73 ms\n"
     ]
    }
   ],
   "source": [
    "%%time\n",
    "# '%%time' returns the time required for the execution of the model\n",
    "\n",
    "# pass the train and test set of the LDA transformed data\n",
    "decisiontree_model_run(X_train_lda, X_test_lda, y_train, y_test)"
   ]
  },
  {
   "cell_type": "markdown",
   "metadata": {},
   "source": [
    "**Interpretation:** From the above results, we can see that the model accuracy for the LDA transformed dataset is the same as the original dataset, but the time taken by the LDA is the least. PCA transformed data also took less time to build the model than the original dataset since; the number of features is reduced; but, the accuracy is decreased due to the information loss."
   ]
  }
 ],
 "metadata": {
  "kernelspec": {
   "display_name": "Python 3 (ipykernel)",
   "language": "python",
   "name": "python3"
  },
  "language_info": {
   "codemirror_mode": {
    "name": "ipython",
    "version": 3
   },
   "file_extension": ".py",
   "mimetype": "text/x-python",
   "name": "python",
   "nbconvert_exporter": "python",
   "pygments_lexer": "ipython3",
   "version": "3.11.3"
  }
 },
 "nbformat": 4,
 "nbformat_minor": 4
}
